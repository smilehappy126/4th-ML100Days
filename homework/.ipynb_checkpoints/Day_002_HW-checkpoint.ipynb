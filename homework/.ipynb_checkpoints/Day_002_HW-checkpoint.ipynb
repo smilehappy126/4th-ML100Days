{
 "cells": [
  {
   "cell_type": "markdown",
   "metadata": {},
   "source": [
    "## [作業目標]\n",
    "了解機器學習適合應用的領域與範疇。"
   ]
  },
  {
   "cell_type": "markdown",
   "metadata": {},
   "source": [
    "## [作業重點]\n",
    "透過瞭解機器學習的運作方式，找出非常適用機器學習應用的領域及其原因"
   ]
  },
  {
   "cell_type": "markdown",
   "metadata": {},
   "source": [
    "## 作業\n",
    "請找出一個你認為機器學習可以發光發熱的領域並闡述原因? "
   ]
  },
  {
   "cell_type": "code",
   "execution_count": null,
   "metadata": {},
   "outputs": [],
   "source": [
    "我認為急診室是個機器學習可以大展手腳的地方。據我所知，在病患一進入急診室的時候會由醫院根據這個病患的症狀去判定病患的嚴重程度，這個程序稱為檢傷分級。\n",
    "不同的級數會有不同的SOP，我認為可以透過急診室所有的病患症狀、最終檢傷結果等資料去訓練出一個監督式的機器學習模型，讓電腦可以協助醫師加速整個檢傷的過程，幫助病患盡快接受治療。"
   ]
  }
 ],
 "metadata": {
  "kernelspec": {
   "display_name": "Python 3",
   "language": "python",
   "name": "python3"
  },
  "language_info": {
   "codemirror_mode": {
    "name": "ipython",
    "version": 3
   },
   "file_extension": ".py",
   "mimetype": "text/x-python",
   "name": "python",
   "nbconvert_exporter": "python",
   "pygments_lexer": "ipython3",
   "version": "3.7.4"
  }
 },
 "nbformat": 4,
 "nbformat_minor": 2
}
